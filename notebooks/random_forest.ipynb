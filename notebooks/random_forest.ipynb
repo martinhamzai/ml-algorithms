{
 "cells": [
  {
   "cell_type": "markdown",
   "id": "a1871ece-01da-4aa2-beab-7e56a89374a6",
   "metadata": {},
   "source": [
    "# Random Forest\n",
    "**Random forests** is an ensemble learning method for classification and regression that works by creating a multitude of decision trees. For classification, the output of the random forest is the class selected by most trees. For regression tasks, the output is the average of all of the predictions of the trees. Random forests correct for decision trees' habit of overfitting."
   ]
  },
  {
   "cell_type": "markdown",
   "id": "178bc60c-bbe4-450f-aa4c-69e8c3b13a97",
   "metadata": {},
   "source": [
    "## When to Use, Not to Use, Pros and Cons"
   ]
  },
  {
   "cell_type": "markdown",
   "id": "439295c5-529f-4633-93d0-3d9b99e4a13a",
   "metadata": {},
   "source": [
    "# Coding"
   ]
  },
  {
   "cell_type": "code",
   "execution_count": null,
   "id": "2783287e-8b32-429c-93aa-8110b8a73844",
   "metadata": {},
   "outputs": [],
   "source": []
  }
 ],
 "metadata": {
  "kernelspec": {
   "display_name": "Python 3 (ipykernel)",
   "language": "python",
   "name": "python3"
  },
  "language_info": {
   "codemirror_mode": {
    "name": "ipython",
    "version": 3
   },
   "file_extension": ".py",
   "mimetype": "text/x-python",
   "name": "python",
   "nbconvert_exporter": "python",
   "pygments_lexer": "ipython3",
   "version": "3.12.5"
  }
 },
 "nbformat": 4,
 "nbformat_minor": 5
}
