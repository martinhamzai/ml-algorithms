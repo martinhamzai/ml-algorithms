{
 "cells": [
  {
   "cell_type": "markdown",
   "id": "90be160e-2131-4f41-8a3e-274bcb65744c",
   "metadata": {},
   "source": [
    "# Decision Trees"
   ]
  },
  {
   "cell_type": "markdown",
   "id": "f21f1f85-7678-4313-bf0c-8d5419996708",
   "metadata": {},
   "source": [
    "**Decision trees** are **supervised learning** algorithms that predict the value of a target variable based on several input variables. There are two main types of tree models, classification trees and regression trees. Decision trees are extremely popular amongst machine learning algorithms given their intelligibility and simplicity because they produce algorithms that are easy to interpret and visualize. Decision trees are non-parametric, meaning they make minimal assumptions about the underlying distribution of the data being studied"
   ]
  },
  {
   "cell_type": "markdown",
   "id": "9306826e-3ef2-48cd-b144-168c7bcc65ad",
   "metadata": {},
   "source": [
    "## General Logic\n",
    "A decision tree is a simple representation for classifying examples. It is comprised of input and target features. There can be multiple input features in a tree but only one target feature called the \"classification.\" Each element in the domain of the classification is called a class. \n",
    "\n",
    "Decision trees are comprised of internal and leaf nodes. Internal nodes are labeled with an input feature and are connected to either possible values of the target feature (leaf node) or subordinate decision nodes (internal nodes) with the connection being a decision boundary. Leaf nodes are label with either a class or a probability distribution over the classes.\n",
    "\n",
    "A tree is built by splitting the source set, the root node, into subsets which constitute the successor children. The splitting is based on a set of rules based on features. This process is repeated in a recursive manner called recursive partioning and is completed when the subset at a node has all the same values of the target feature or when splitting no longer adds value to the predictions. This process is an example of a greedy algorithm and is the most common strategy for learning decision trees from data."
   ]
  },
  {
   "cell_type": "markdown",
   "id": "cb9c83d1-df4a-4fcb-b42c-9a357b2ed44a",
   "metadata": {},
   "source": [
    "## Types of Decision Trees\n",
    "- **Classification tree**: When the predicted outcome is the class (discrete) to which the data belongs\n",
    "- **Regression tree**: When the predicted outcome can be considered a real number\n",
    "- *Other types of tree-based machine learning algorithms like boosting and random forest are not covered here.*"
   ]
  },
  {
   "cell_type": "markdown",
   "id": "c6d8c30f-6ef9-4337-af00-53c5c2c2f12b",
   "metadata": {},
   "source": [
    "## Metrics\n",
    "Algorithms for constructing decision trees usually work top-down, by choosing a variable at each step that best splits the set of items. Different algorithms use different metrics for measuring \"best.\" Common examples are listed below\n",
    "\n",
    "### Estimate of Postive Correctness\n",
    "A simple and effective metric which identifies the degree to which true positives outweigh false positives, defined as:\n",
    "$$\n",
    "E_P = TP - FP\n",
    "$$\n",
    "In this equation, the total false positives are subtracted from the total true positives, resulting in an estimate on how many positive examples the feature could correctly identify within the data, with higher numbers meaning the feature could correctly classify more positive samples.\n",
    "\n",
    "It should be known that this number is only an estimate. In instances where two features have an identical FP value while one of the features has a higher TP value, that feature would be ranked higher because it gives a higher value. To combat this, using Sensitivity to obtain the true positive rate (TPR) allows for better estimation of positive correctness.\n",
    "\n",
    "$$\n",
    "TPR = TP/(TP+FN)\n",
    "$$\n",
    "\n",
    "### Gini Impurity\n",
    "Gini impurity measures how often a randomly chosen element of a set would be incorrectly labeled if it were labeled randomly and independently according to the distribution of labels in the set. It reaches its minimum (zero) when all cases in the node fall into a single target category.\n",
    "\n",
    "For a set of items with $J$ classes and relative frequences $p_i, i \\in {1, 2, \\dots, J}$, the probability of chosing an item with label $i$ is $p_i$, and the probabilityof miscategorizing that item is $\\sum_{k\\ne i}p_k = 1 - p_i$. The Gini impurity is computed by summing pairwise products of these probabilities for each class label:\n",
    "$$\n",
    "\\mathrm{I}_G(p) = \\sum_{i=1}^{J}\\left(p_i\\sum_{k\\ne i}p_k\\right) = \\sum_{i=1}^{J}p_i(1-p_i) = \\sum_{i=1}^{J}(p_i - p_i^2) = \\sum_{i=1}^{J}p_i - \\sum_{i=1}^{J}p_i^2 = 1 - \\sum_{i=1}^{J}p_i^2\n",
    "$$\n",
    "\n",
    "### Information Gain\n",
    "Based on the concept of entropy and information content from information theory, seek further readings for more detail.\n",
    "\n",
    "### Variance Reduction\n",
    "Seek further readings."
   ]
  },
  {
   "cell_type": "markdown",
   "id": "d56624bf-1411-497c-a9ea-13efbf476a63",
   "metadata": {},
   "source": [
    "## When to Use, Not to Use, Pros and Cons\n",
    "Decision trees are best used in cases where simple and interpretable classification/regression models are needed. There are not ideal in cases where data is complex or noisy.\n",
    "\n",
    "**Pros**:\n",
    "- Simple to understand and interpret\n",
    "- Able to handle both numerical and categorical data\n",
    "- Little data preparation\n",
    "- Non-parametric\n",
    "- Mirrors human decision making\n",
    "- Built-in feature selection\n",
    "\n",
    "**Cons**:\n",
    "- Small changes in training data can cause large changes in the tree\n",
    "- Learning an optimal tree is NP-complete\n",
    "- Can result in over-complex trees that do not generalize well"
   ]
  },
  {
   "cell_type": "markdown",
   "id": "5ffb3d09-65df-4b9b-9fa8-5df1df606b90",
   "metadata": {},
   "source": [
    "## Further Topics\n",
    "- Pruning\n",
    "- Decision graphs\n",
    "- Notable decision tree algorithms\n",
    "- Ensemble methods\n",
    "- Boosted trees\n",
    "- Bootstrap aggregated decision trees"
   ]
  },
  {
   "cell_type": "markdown",
   "id": "67a72f8c-5825-471c-8df6-b73b2031302c",
   "metadata": {},
   "source": [
    "# Coding\n",
    "In this section, we will implement an example classification tree."
   ]
  },
  {
   "cell_type": "code",
   "execution_count": 1,
   "id": "4525a138-ece5-41cc-befd-df32f3f693b0",
   "metadata": {},
   "outputs": [],
   "source": [
    "import matplotlib.pyplot as plt\n",
    "import numpy as np\n",
    "import pandas as pd\n",
    "\n",
    "from sklearn.metrics import confusion_matrix, accuracy_score, classification_report\n",
    "from sklearn.model_selection import train_test_split\n",
    "from sklearn.tree import DecisionTreeClassifier"
   ]
  },
  {
   "cell_type": "code",
   "execution_count": 2,
   "id": "576ff394-fadc-4968-be99-e0886e3e80a9",
   "metadata": {},
   "outputs": [
    {
     "data": {
      "text/html": [
       "<div>\n",
       "<style scoped>\n",
       "    .dataframe tbody tr th:only-of-type {\n",
       "        vertical-align: middle;\n",
       "    }\n",
       "\n",
       "    .dataframe tbody tr th {\n",
       "        vertical-align: top;\n",
       "    }\n",
       "\n",
       "    .dataframe thead th {\n",
       "        text-align: right;\n",
       "    }\n",
       "</style>\n",
       "<table border=\"1\" class=\"dataframe\">\n",
       "  <thead>\n",
       "    <tr style=\"text-align: right;\">\n",
       "      <th></th>\n",
       "      <th>pregnant</th>\n",
       "      <th>glucose</th>\n",
       "      <th>bp</th>\n",
       "      <th>skin</th>\n",
       "      <th>insulin</th>\n",
       "      <th>bmi</th>\n",
       "      <th>pedigree</th>\n",
       "      <th>age</th>\n",
       "      <th>label</th>\n",
       "    </tr>\n",
       "  </thead>\n",
       "  <tbody>\n",
       "    <tr>\n",
       "      <th>0</th>\n",
       "      <td>6</td>\n",
       "      <td>148</td>\n",
       "      <td>72</td>\n",
       "      <td>35</td>\n",
       "      <td>0</td>\n",
       "      <td>33.6</td>\n",
       "      <td>0.627</td>\n",
       "      <td>50</td>\n",
       "      <td>1</td>\n",
       "    </tr>\n",
       "    <tr>\n",
       "      <th>1</th>\n",
       "      <td>1</td>\n",
       "      <td>85</td>\n",
       "      <td>66</td>\n",
       "      <td>29</td>\n",
       "      <td>0</td>\n",
       "      <td>26.6</td>\n",
       "      <td>0.351</td>\n",
       "      <td>31</td>\n",
       "      <td>0</td>\n",
       "    </tr>\n",
       "    <tr>\n",
       "      <th>2</th>\n",
       "      <td>8</td>\n",
       "      <td>183</td>\n",
       "      <td>64</td>\n",
       "      <td>0</td>\n",
       "      <td>0</td>\n",
       "      <td>23.3</td>\n",
       "      <td>0.672</td>\n",
       "      <td>32</td>\n",
       "      <td>1</td>\n",
       "    </tr>\n",
       "    <tr>\n",
       "      <th>3</th>\n",
       "      <td>1</td>\n",
       "      <td>89</td>\n",
       "      <td>66</td>\n",
       "      <td>23</td>\n",
       "      <td>94</td>\n",
       "      <td>28.1</td>\n",
       "      <td>0.167</td>\n",
       "      <td>21</td>\n",
       "      <td>0</td>\n",
       "    </tr>\n",
       "    <tr>\n",
       "      <th>4</th>\n",
       "      <td>0</td>\n",
       "      <td>137</td>\n",
       "      <td>40</td>\n",
       "      <td>35</td>\n",
       "      <td>168</td>\n",
       "      <td>43.1</td>\n",
       "      <td>2.288</td>\n",
       "      <td>33</td>\n",
       "      <td>1</td>\n",
       "    </tr>\n",
       "  </tbody>\n",
       "</table>\n",
       "</div>"
      ],
      "text/plain": [
       "   pregnant  glucose  bp  skin  insulin   bmi  pedigree  age  label\n",
       "0         6      148  72    35        0  33.6     0.627   50      1\n",
       "1         1       85  66    29        0  26.6     0.351   31      0\n",
       "2         8      183  64     0        0  23.3     0.672   32      1\n",
       "3         1       89  66    23       94  28.1     0.167   21      0\n",
       "4         0      137  40    35      168  43.1     2.288   33      1"
      ]
     },
     "execution_count": 2,
     "metadata": {},
     "output_type": "execute_result"
    }
   ],
   "source": [
    "col_names = ['pregnant', 'glucose', 'bp', 'skin', 'insulin', 'bmi', 'pedigree', 'age', 'label']\n",
    "df = pd.read_csv('../data/diabetes.csv', header=0, names=col_names)\n",
    "df.head()"
   ]
  },
  {
   "cell_type": "code",
   "execution_count": 3,
   "id": "c7e3d7ed-ad08-4845-983d-7efc06fd79bf",
   "metadata": {},
   "outputs": [],
   "source": [
    "X = df[col_names[:-1]]\n",
    "y = df.label"
   ]
  },
  {
   "cell_type": "code",
   "execution_count": 4,
   "id": "d3bf43e3-1b89-4933-8e66-0ec831cccbbf",
   "metadata": {},
   "outputs": [],
   "source": [
    "X_train, X_test, y_train, y_test = train_test_split(X, y, test_size=0.2, random_state=42)"
   ]
  },
  {
   "cell_type": "code",
   "execution_count": 5,
   "id": "8d994913-da59-40b6-9808-99bc49cf0634",
   "metadata": {},
   "outputs": [],
   "source": [
    "clf = DecisionTreeClassifier().fit(X_train, y_train)\n",
    "\n",
    "y_pred = clf.predict(X_test)"
   ]
  },
  {
   "cell_type": "code",
   "execution_count": 6,
   "id": "9c9fa2ac-f416-4684-9223-52c5a4551b2e",
   "metadata": {},
   "outputs": [
    {
     "name": "stdout",
     "output_type": "stream",
     "text": [
      "Accuracy:  0.7337662337662337\n"
     ]
    }
   ],
   "source": [
    "print(\"Accuracy: \", accuracy_score(y_test, y_pred))"
   ]
  },
  {
   "cell_type": "code",
   "execution_count": 8,
   "id": "fcd74c4d-d377-4cbc-b89e-301b81f24825",
   "metadata": {},
   "outputs": [
    {
     "data": {
      "text/plain": [
       "[Text(0.4619891826923077, 0.9642857142857143, 'glucose <= 127.5\\ngini = 0.453\\nsamples = 614\\nvalue = [401, 213]'),\n",
       " Text(0.1661658653846154, 0.8928571428571429, 'age <= 28.5\\ngini = 0.314\\nsamples = 390\\nvalue = [314, 76]'),\n",
       " Text(0.31407752403846156, 0.9285714285714286, 'True  '),\n",
       " Text(0.06009615384615385, 0.8214285714285714, 'bmi <= 30.95\\ngini = 0.142\\nsamples = 221\\nvalue = [204, 17]'),\n",
       " Text(0.019230769230769232, 0.75, 'pedigree <= 0.672\\ngini = 0.016\\nsamples = 124\\nvalue = [123, 1]'),\n",
       " Text(0.009615384615384616, 0.6785714285714286, 'gini = 0.0\\nsamples = 108\\nvalue = [108, 0]'),\n",
       " Text(0.028846153846153848, 0.6785714285714286, 'pedigree <= 0.686\\ngini = 0.117\\nsamples = 16\\nvalue = [15, 1]'),\n",
       " Text(0.019230769230769232, 0.6071428571428571, 'gini = 0.0\\nsamples = 1\\nvalue = [0, 1]'),\n",
       " Text(0.038461538461538464, 0.6071428571428571, 'gini = 0.0\\nsamples = 15\\nvalue = [15, 0]'),\n",
       " Text(0.10096153846153846, 0.75, 'bp <= 37.0\\ngini = 0.275\\nsamples = 97\\nvalue = [81, 16]'),\n",
       " Text(0.09134615384615384, 0.6785714285714286, 'gini = 0.0\\nsamples = 2\\nvalue = [0, 2]'),\n",
       " Text(0.11057692307692307, 0.6785714285714286, 'pedigree <= 0.501\\ngini = 0.251\\nsamples = 95\\nvalue = [81.0, 14.0]'),\n",
       " Text(0.057692307692307696, 0.6071428571428571, 'skin <= 8.5\\ngini = 0.15\\nsamples = 61\\nvalue = [56, 5]'),\n",
       " Text(0.038461538461538464, 0.5357142857142857, 'glucose <= 109.5\\ngini = 0.49\\nsamples = 7\\nvalue = [4, 3]'),\n",
       " Text(0.028846153846153848, 0.4642857142857143, 'gini = 0.0\\nsamples = 3\\nvalue = [3, 0]'),\n",
       " Text(0.04807692307692308, 0.4642857142857143, 'bmi <= 32.45\\ngini = 0.375\\nsamples = 4\\nvalue = [1, 3]'),\n",
       " Text(0.038461538461538464, 0.39285714285714285, 'gini = 0.0\\nsamples = 1\\nvalue = [1, 0]'),\n",
       " Text(0.057692307692307696, 0.39285714285714285, 'gini = 0.0\\nsamples = 3\\nvalue = [0, 3]'),\n",
       " Text(0.07692307692307693, 0.5357142857142857, 'bmi <= 31.1\\ngini = 0.071\\nsamples = 54\\nvalue = [52, 2]'),\n",
       " Text(0.0673076923076923, 0.4642857142857143, 'gini = 0.0\\nsamples = 1\\nvalue = [0, 1]'),\n",
       " Text(0.08653846153846154, 0.4642857142857143, 'bmi <= 31.8\\ngini = 0.037\\nsamples = 53\\nvalue = [52, 1]'),\n",
       " Text(0.07692307692307693, 0.39285714285714285, 'pedigree <= 0.194\\ngini = 0.444\\nsamples = 3\\nvalue = [2, 1]'),\n",
       " Text(0.0673076923076923, 0.32142857142857145, 'gini = 0.0\\nsamples = 2\\nvalue = [2, 0]'),\n",
       " Text(0.08653846153846154, 0.32142857142857145, 'gini = 0.0\\nsamples = 1\\nvalue = [0, 1]'),\n",
       " Text(0.09615384615384616, 0.39285714285714285, 'gini = 0.0\\nsamples = 50\\nvalue = [50, 0]'),\n",
       " Text(0.16346153846153846, 0.6071428571428571, 'pedigree <= 0.544\\ngini = 0.389\\nsamples = 34\\nvalue = [25, 9]'),\n",
       " Text(0.1346153846153846, 0.5357142857142857, 'pedigree <= 0.512\\ngini = 0.444\\nsamples = 6\\nvalue = [2, 4]'),\n",
       " Text(0.125, 0.4642857142857143, 'pregnant <= 1.5\\ngini = 0.444\\nsamples = 3\\nvalue = [2, 1]'),\n",
       " Text(0.11538461538461539, 0.39285714285714285, 'gini = 0.0\\nsamples = 2\\nvalue = [2, 0]'),\n",
       " Text(0.1346153846153846, 0.39285714285714285, 'gini = 0.0\\nsamples = 1\\nvalue = [0, 1]'),\n",
       " Text(0.14423076923076922, 0.4642857142857143, 'gini = 0.0\\nsamples = 3\\nvalue = [0, 3]'),\n",
       " Text(0.19230769230769232, 0.5357142857142857, 'bp <= 67.0\\ngini = 0.293\\nsamples = 28\\nvalue = [23, 5]'),\n",
       " Text(0.16346153846153846, 0.4642857142857143, 'glucose <= 89.0\\ngini = 0.48\\nsamples = 10\\nvalue = [6, 4]'),\n",
       " Text(0.15384615384615385, 0.39285714285714285, 'gini = 0.0\\nsamples = 4\\nvalue = [4, 0]'),\n",
       " Text(0.17307692307692307, 0.39285714285714285, 'insulin <= 99.5\\ngini = 0.444\\nsamples = 6\\nvalue = [2, 4]'),\n",
       " Text(0.16346153846153846, 0.32142857142857145, 'gini = 0.0\\nsamples = 3\\nvalue = [0, 3]'),\n",
       " Text(0.18269230769230768, 0.32142857142857145, 'insulin <= 159.0\\ngini = 0.444\\nsamples = 3\\nvalue = [2, 1]'),\n",
       " Text(0.17307692307692307, 0.25, 'gini = 0.0\\nsamples = 2\\nvalue = [2, 0]'),\n",
       " Text(0.19230769230769232, 0.25, 'gini = 0.0\\nsamples = 1\\nvalue = [0, 1]'),\n",
       " Text(0.22115384615384615, 0.4642857142857143, 'age <= 21.5\\ngini = 0.105\\nsamples = 18\\nvalue = [17, 1]'),\n",
       " Text(0.21153846153846154, 0.39285714285714285, 'glucose <= 115.5\\ngini = 0.444\\nsamples = 3\\nvalue = [2, 1]'),\n",
       " Text(0.20192307692307693, 0.32142857142857145, 'gini = 0.0\\nsamples = 2\\nvalue = [2, 0]'),\n",
       " Text(0.22115384615384615, 0.32142857142857145, 'gini = 0.0\\nsamples = 1\\nvalue = [0, 1]'),\n",
       " Text(0.23076923076923078, 0.39285714285714285, 'gini = 0.0\\nsamples = 15\\nvalue = [15, 0]'),\n",
       " Text(0.2722355769230769, 0.8214285714285714, 'bmi <= 26.35\\ngini = 0.454\\nsamples = 169\\nvalue = [110, 59]'),\n",
       " Text(0.20192307692307693, 0.75, 'bmi <= 9.65\\ngini = 0.057\\nsamples = 34\\nvalue = [33, 1]'),\n",
       " Text(0.19230769230769232, 0.6785714285714286, 'gini = 0.0\\nsamples = 1\\nvalue = [0, 1]'),\n",
       " Text(0.21153846153846154, 0.6785714285714286, 'gini = 0.0\\nsamples = 33\\nvalue = [33, 0]'),\n",
       " Text(0.3425480769230769, 0.75, 'glucose <= 94.5\\ngini = 0.49\\nsamples = 135\\nvalue = [77, 58]'),\n",
       " Text(0.23076923076923078, 0.6785714285714286, 'glucose <= 28.5\\ngini = 0.225\\nsamples = 31\\nvalue = [27, 4]'),\n",
       " Text(0.22115384615384615, 0.6071428571428571, 'gini = 0.0\\nsamples = 2\\nvalue = [0, 2]'),\n",
       " Text(0.2403846153846154, 0.6071428571428571, 'pregnant <= 9.5\\ngini = 0.128\\nsamples = 29\\nvalue = [27, 2]'),\n",
       " Text(0.23076923076923078, 0.5357142857142857, 'gini = 0.0\\nsamples = 22\\nvalue = [22, 0]'),\n",
       " Text(0.25, 0.5357142857142857, 'skin <= 27.0\\ngini = 0.408\\nsamples = 7\\nvalue = [5, 2]'),\n",
       " Text(0.2403846153846154, 0.4642857142857143, 'gini = 0.0\\nsamples = 4\\nvalue = [4, 0]'),\n",
       " Text(0.25961538461538464, 0.4642857142857143, 'insulin <= 27.0\\ngini = 0.444\\nsamples = 3\\nvalue = [1, 2]'),\n",
       " Text(0.25, 0.39285714285714285, 'gini = 0.0\\nsamples = 2\\nvalue = [0, 2]'),\n",
       " Text(0.2692307692307692, 0.39285714285714285, 'gini = 0.0\\nsamples = 1\\nvalue = [1, 0]'),\n",
       " Text(0.4543269230769231, 0.6785714285714286, 'pedigree <= 0.521\\ngini = 0.499\\nsamples = 104\\nvalue = [50.0, 54.0]'),\n",
       " Text(0.3894230769230769, 0.6071428571428571, 'skin <= 27.5\\ngini = 0.489\\nsamples = 73\\nvalue = [42, 31]'),\n",
       " Text(0.34615384615384615, 0.5357142857142857, 'bp <= 83.0\\ngini = 0.494\\nsamples = 45\\nvalue = [20, 25]'),\n",
       " Text(0.3173076923076923, 0.4642857142857143, 'pedigree <= 0.387\\ngini = 0.415\\nsamples = 34\\nvalue = [10, 24]'),\n",
       " Text(0.28846153846153844, 0.39285714285714285, 'pregnant <= 7.5\\ngini = 0.337\\nsamples = 28\\nvalue = [6, 22]'),\n",
       " Text(0.25961538461538464, 0.32142857142857145, 'bp <= 55.0\\ngini = 0.165\\nsamples = 22\\nvalue = [2, 20]'),\n",
       " Text(0.25, 0.25, 'gini = 0.0\\nsamples = 1\\nvalue = [1, 0]'),\n",
       " Text(0.2692307692307692, 0.25, 'pedigree <= 0.104\\ngini = 0.091\\nsamples = 21\\nvalue = [1, 20]'),\n",
       " Text(0.25961538461538464, 0.17857142857142858, 'gini = 0.0\\nsamples = 1\\nvalue = [1, 0]'),\n",
       " Text(0.27884615384615385, 0.17857142857142858, 'gini = 0.0\\nsamples = 20\\nvalue = [0, 20]'),\n",
       " Text(0.3173076923076923, 0.32142857142857145, 'pedigree <= 0.265\\ngini = 0.444\\nsamples = 6\\nvalue = [4, 2]'),\n",
       " Text(0.3076923076923077, 0.25, 'glucose <= 123.5\\ngini = 0.32\\nsamples = 5\\nvalue = [4, 1]'),\n",
       " Text(0.2980769230769231, 0.17857142857142858, 'gini = 0.0\\nsamples = 4\\nvalue = [4, 0]'),\n",
       " Text(0.3173076923076923, 0.17857142857142858, 'gini = 0.0\\nsamples = 1\\nvalue = [0, 1]'),\n",
       " Text(0.3269230769230769, 0.25, 'gini = 0.0\\nsamples = 1\\nvalue = [0, 1]'),\n",
       " Text(0.34615384615384615, 0.39285714285714285, 'pregnant <= 6.5\\ngini = 0.444\\nsamples = 6\\nvalue = [4, 2]'),\n",
       " Text(0.33653846153846156, 0.32142857142857145, 'gini = 0.0\\nsamples = 4\\nvalue = [4, 0]'),\n",
       " Text(0.3557692307692308, 0.32142857142857145, 'gini = 0.0\\nsamples = 2\\nvalue = [0, 2]'),\n",
       " Text(0.375, 0.4642857142857143, 'skin <= 18.0\\ngini = 0.165\\nsamples = 11\\nvalue = [10, 1]'),\n",
       " Text(0.36538461538461536, 0.39285714285714285, 'gini = 0.0\\nsamples = 10\\nvalue = [10, 0]'),\n",
       " Text(0.38461538461538464, 0.39285714285714285, 'gini = 0.0\\nsamples = 1\\nvalue = [0, 1]'),\n",
       " Text(0.4326923076923077, 0.5357142857142857, 'bp <= 89.0\\ngini = 0.337\\nsamples = 28\\nvalue = [22, 6]'),\n",
       " Text(0.4230769230769231, 0.4642857142857143, 'bp <= 67.0\\ngini = 0.26\\nsamples = 26\\nvalue = [22, 4]'),\n",
       " Text(0.40384615384615385, 0.39285714285714285, 'pregnant <= 5.5\\ngini = 0.5\\nsamples = 6\\nvalue = [3, 3]'),\n",
       " Text(0.3942307692307692, 0.32142857142857145, 'pregnant <= 0.5\\ngini = 0.375\\nsamples = 4\\nvalue = [3, 1]'),\n",
       " Text(0.38461538461538464, 0.25, 'gini = 0.0\\nsamples = 1\\nvalue = [0, 1]'),\n",
       " Text(0.40384615384615385, 0.25, 'gini = 0.0\\nsamples = 3\\nvalue = [3, 0]'),\n",
       " Text(0.41346153846153844, 0.32142857142857145, 'gini = 0.0\\nsamples = 2\\nvalue = [0, 2]'),\n",
       " Text(0.4423076923076923, 0.39285714285714285, 'insulin <= 155.0\\ngini = 0.095\\nsamples = 20\\nvalue = [19, 1]'),\n",
       " Text(0.4326923076923077, 0.32142857142857145, 'gini = 0.0\\nsamples = 18\\nvalue = [18, 0]'),\n",
       " Text(0.4519230769230769, 0.32142857142857145, 'glucose <= 118.0\\ngini = 0.5\\nsamples = 2\\nvalue = [1, 1]'),\n",
       " Text(0.4423076923076923, 0.25, 'gini = 0.0\\nsamples = 1\\nvalue = [0, 1]'),\n",
       " Text(0.46153846153846156, 0.25, 'gini = 0.0\\nsamples = 1\\nvalue = [1, 0]'),\n",
       " Text(0.4423076923076923, 0.4642857142857143, 'gini = 0.0\\nsamples = 2\\nvalue = [0, 2]'),\n",
       " Text(0.5192307692307693, 0.6071428571428571, 'pregnant <= 6.5\\ngini = 0.383\\nsamples = 31\\nvalue = [8, 23]'),\n",
       " Text(0.5096153846153846, 0.5357142857142857, 'skin <= 47.5\\ngini = 0.488\\nsamples = 19\\nvalue = [8, 11]'),\n",
       " Text(0.5, 0.4642857142857143, 'bp <= 69.0\\ngini = 0.457\\nsamples = 17\\nvalue = [6, 11]'),\n",
       " Text(0.4807692307692308, 0.39285714285714285, 'insulin <= 137.5\\ngini = 0.444\\nsamples = 6\\nvalue = [4, 2]'),\n",
       " Text(0.47115384615384615, 0.32142857142857145, 'gini = 0.0\\nsamples = 4\\nvalue = [4, 0]'),\n",
       " Text(0.49038461538461536, 0.32142857142857145, 'gini = 0.0\\nsamples = 2\\nvalue = [0, 2]'),\n",
       " Text(0.5192307692307693, 0.39285714285714285, 'bp <= 87.0\\ngini = 0.298\\nsamples = 11\\nvalue = [2, 9]'),\n",
       " Text(0.5096153846153846, 0.32142857142857145, 'insulin <= 225.0\\ngini = 0.18\\nsamples = 10\\nvalue = [1, 9]'),\n",
       " Text(0.5, 0.25, 'gini = 0.0\\nsamples = 8\\nvalue = [0, 8]'),\n",
       " Text(0.5192307692307693, 0.25, 'bmi <= 39.7\\ngini = 0.5\\nsamples = 2\\nvalue = [1, 1]'),\n",
       " Text(0.5096153846153846, 0.17857142857142858, 'gini = 0.0\\nsamples = 1\\nvalue = [1, 0]'),\n",
       " Text(0.5288461538461539, 0.17857142857142858, 'gini = 0.0\\nsamples = 1\\nvalue = [0, 1]'),\n",
       " Text(0.5288461538461539, 0.32142857142857145, 'gini = 0.0\\nsamples = 1\\nvalue = [1, 0]'),\n",
       " Text(0.5192307692307693, 0.4642857142857143, 'gini = 0.0\\nsamples = 2\\nvalue = [2, 0]'),\n",
       " Text(0.5288461538461539, 0.5357142857142857, 'gini = 0.0\\nsamples = 12\\nvalue = [0, 12]'),\n",
       " Text(0.7578125, 0.8928571428571429, 'bmi <= 29.95\\ngini = 0.475\\nsamples = 224\\nvalue = [87, 137]'),\n",
       " Text(0.6099008413461539, 0.9285714285714286, '  False'),\n",
       " Text(0.6322115384615384, 0.8214285714285714, 'glucose <= 146.5\\ngini = 0.429\\nsamples = 61\\nvalue = [42, 19]'),\n",
       " Text(0.5673076923076923, 0.75, 'bp <= 55.0\\ngini = 0.239\\nsamples = 36\\nvalue = [31, 5]'),\n",
       " Text(0.5480769230769231, 0.6785714285714286, 'skin <= 9.5\\ngini = 0.444\\nsamples = 3\\nvalue = [1, 2]'),\n",
       " Text(0.5384615384615384, 0.6071428571428571, 'gini = 0.0\\nsamples = 2\\nvalue = [0, 2]'),\n",
       " Text(0.5576923076923077, 0.6071428571428571, 'gini = 0.0\\nsamples = 1\\nvalue = [1, 0]'),\n",
       " Text(0.5865384615384616, 0.6785714285714286, 'glucose <= 135.0\\ngini = 0.165\\nsamples = 33\\nvalue = [30, 3]'),\n",
       " Text(0.5769230769230769, 0.6071428571428571, 'age <= 27.5\\ngini = 0.291\\nsamples = 17\\nvalue = [14, 3]'),\n",
       " Text(0.5673076923076923, 0.5357142857142857, 'gini = 0.0\\nsamples = 8\\nvalue = [8, 0]'),\n",
       " Text(0.5865384615384616, 0.5357142857142857, 'age <= 29.5\\ngini = 0.444\\nsamples = 9\\nvalue = [6, 3]'),\n",
       " Text(0.5769230769230769, 0.4642857142857143, 'gini = 0.0\\nsamples = 1\\nvalue = [0, 1]'),\n",
       " Text(0.5961538461538461, 0.4642857142857143, 'bmi <= 28.2\\ngini = 0.375\\nsamples = 8\\nvalue = [6, 2]'),\n",
       " Text(0.5865384615384616, 0.39285714285714285, 'bmi <= 24.85\\ngini = 0.245\\nsamples = 7\\nvalue = [6, 1]'),\n",
       " Text(0.5769230769230769, 0.32142857142857145, 'bmi <= 22.45\\ngini = 0.5\\nsamples = 2\\nvalue = [1, 1]'),\n",
       " Text(0.5673076923076923, 0.25, 'gini = 0.0\\nsamples = 1\\nvalue = [1, 0]'),\n",
       " Text(0.5865384615384616, 0.25, 'gini = 0.0\\nsamples = 1\\nvalue = [0, 1]'),\n",
       " Text(0.5961538461538461, 0.32142857142857145, 'gini = 0.0\\nsamples = 5\\nvalue = [5, 0]'),\n",
       " Text(0.6057692307692307, 0.39285714285714285, 'gini = 0.0\\nsamples = 1\\nvalue = [0, 1]'),\n",
       " Text(0.5961538461538461, 0.6071428571428571, 'gini = 0.0\\nsamples = 16\\nvalue = [16, 0]'),\n",
       " Text(0.6971153846153846, 0.75, 'age <= 62.0\\ngini = 0.493\\nsamples = 25\\nvalue = [11.0, 14.0]'),\n",
       " Text(0.6875, 0.6785714285714286, 'age <= 41.0\\ngini = 0.463\\nsamples = 22\\nvalue = [8, 14]'),\n",
       " Text(0.6634615384615384, 0.6071428571428571, 'glucose <= 163.0\\ngini = 0.486\\nsamples = 12\\nvalue = [7, 5]'),\n",
       " Text(0.6442307692307693, 0.5357142857142857, 'pregnant <= 2.5\\ngini = 0.245\\nsamples = 7\\nvalue = [6, 1]'),\n",
       " Text(0.6346153846153846, 0.4642857142857143, 'skin <= 19.0\\ngini = 0.5\\nsamples = 2\\nvalue = [1, 1]'),\n",
       " Text(0.625, 0.39285714285714285, 'gini = 0.0\\nsamples = 1\\nvalue = [0, 1]'),\n",
       " Text(0.6442307692307693, 0.39285714285714285, 'gini = 0.0\\nsamples = 1\\nvalue = [1, 0]'),\n",
       " Text(0.6538461538461539, 0.4642857142857143, 'gini = 0.0\\nsamples = 5\\nvalue = [5, 0]'),\n",
       " Text(0.6826923076923077, 0.5357142857142857, 'bp <= 60.0\\ngini = 0.32\\nsamples = 5\\nvalue = [1, 4]'),\n",
       " Text(0.6730769230769231, 0.4642857142857143, 'gini = 0.0\\nsamples = 1\\nvalue = [1, 0]'),\n",
       " Text(0.6923076923076923, 0.4642857142857143, 'gini = 0.0\\nsamples = 4\\nvalue = [0, 4]'),\n",
       " Text(0.7115384615384616, 0.6071428571428571, 'bmi <= 27.25\\ngini = 0.18\\nsamples = 10\\nvalue = [1, 9]'),\n",
       " Text(0.7019230769230769, 0.5357142857142857, 'gini = 0.0\\nsamples = 7\\nvalue = [0, 7]'),\n",
       " Text(0.7211538461538461, 0.5357142857142857, 'bp <= 82.0\\ngini = 0.444\\nsamples = 3\\nvalue = [1, 2]'),\n",
       " Text(0.7115384615384616, 0.4642857142857143, 'gini = 0.0\\nsamples = 2\\nvalue = [0, 2]'),\n",
       " Text(0.7307692307692307, 0.4642857142857143, 'gini = 0.0\\nsamples = 1\\nvalue = [1, 0]'),\n",
       " Text(0.7067307692307693, 0.6785714285714286, 'gini = 0.0\\nsamples = 3\\nvalue = [3, 0]'),\n",
       " Text(0.8834134615384616, 0.8214285714285714, 'glucose <= 165.5\\ngini = 0.4\\nsamples = 163\\nvalue = [45, 118]'),\n",
       " Text(0.8052884615384616, 0.75, 'age <= 30.5\\ngini = 0.466\\nsamples = 108\\nvalue = [40, 68]'),\n",
       " Text(0.7596153846153846, 0.6785714285714286, 'bp <= 61.0\\ngini = 0.499\\nsamples = 48\\nvalue = [25, 23]'),\n",
       " Text(0.75, 0.6071428571428571, 'gini = 0.0\\nsamples = 8\\nvalue = [0, 8]'),\n",
       " Text(0.7692307692307693, 0.6071428571428571, 'insulin <= 252.5\\ngini = 0.469\\nsamples = 40\\nvalue = [25, 15]'),\n",
       " Text(0.7596153846153846, 0.5357142857142857, 'bp <= 85.0\\ngini = 0.499\\nsamples = 29\\nvalue = [14.0, 15.0]'),\n",
       " Text(0.75, 0.4642857142857143, 'glucose <= 156.0\\ngini = 0.493\\nsamples = 25\\nvalue = [14.0, 11.0]'),\n",
       " Text(0.7403846153846154, 0.39285714285714285, 'bp <= 73.0\\ngini = 0.463\\nsamples = 22\\nvalue = [14, 8]'),\n",
       " Text(0.7163461538461539, 0.32142857142857145, 'pedigree <= 0.318\\ngini = 0.497\\nsamples = 13\\nvalue = [6, 7]'),\n",
       " Text(0.6971153846153846, 0.25, 'skin <= 39.0\\ngini = 0.32\\nsamples = 5\\nvalue = [4, 1]'),\n",
       " Text(0.6875, 0.17857142857142858, 'gini = 0.0\\nsamples = 4\\nvalue = [4, 0]'),\n",
       " Text(0.7067307692307693, 0.17857142857142858, 'gini = 0.0\\nsamples = 1\\nvalue = [0, 1]'),\n",
       " Text(0.7355769230769231, 0.25, 'bp <= 66.0\\ngini = 0.375\\nsamples = 8\\nvalue = [2, 6]'),\n",
       " Text(0.7259615384615384, 0.17857142857142858, 'gini = 0.0\\nsamples = 2\\nvalue = [2, 0]'),\n",
       " Text(0.7451923076923077, 0.17857142857142858, 'gini = 0.0\\nsamples = 6\\nvalue = [0, 6]'),\n",
       " Text(0.7644230769230769, 0.32142857142857145, 'pregnant <= 4.5\\ngini = 0.198\\nsamples = 9\\nvalue = [8, 1]'),\n",
       " Text(0.7548076923076923, 0.25, 'gini = 0.0\\nsamples = 7\\nvalue = [7, 0]'),\n",
       " Text(0.7740384615384616, 0.25, 'pregnant <= 5.5\\ngini = 0.5\\nsamples = 2\\nvalue = [1, 1]'),\n",
       " Text(0.7644230769230769, 0.17857142857142858, 'gini = 0.0\\nsamples = 1\\nvalue = [0, 1]'),\n",
       " Text(0.7836538461538461, 0.17857142857142858, 'gini = 0.0\\nsamples = 1\\nvalue = [1, 0]'),\n",
       " Text(0.7596153846153846, 0.39285714285714285, 'gini = 0.0\\nsamples = 3\\nvalue = [0, 3]'),\n",
       " Text(0.7692307692307693, 0.4642857142857143, 'gini = 0.0\\nsamples = 4\\nvalue = [0, 4]'),\n",
       " Text(0.7788461538461539, 0.5357142857142857, 'gini = 0.0\\nsamples = 11\\nvalue = [11, 0]'),\n",
       " Text(0.8509615384615384, 0.6785714285714286, 'pedigree <= 0.429\\ngini = 0.375\\nsamples = 60\\nvalue = [15, 45]'),\n",
       " Text(0.8076923076923077, 0.6071428571428571, 'glucose <= 130.5\\ngini = 0.466\\nsamples = 27\\nvalue = [10, 17]'),\n",
       " Text(0.7980769230769231, 0.5357142857142857, 'gini = 0.0\\nsamples = 2\\nvalue = [2, 0]'),\n",
       " Text(0.8173076923076923, 0.5357142857142857, 'bmi <= 32.45\\ngini = 0.435\\nsamples = 25\\nvalue = [8, 17]'),\n",
       " Text(0.7980769230769231, 0.4642857142857143, 'bmi <= 30.65\\ngini = 0.444\\nsamples = 6\\nvalue = [4, 2]'),\n",
       " Text(0.7884615384615384, 0.39285714285714285, 'gini = 0.0\\nsamples = 2\\nvalue = [0, 2]'),\n",
       " Text(0.8076923076923077, 0.39285714285714285, 'gini = 0.0\\nsamples = 4\\nvalue = [4, 0]'),\n",
       " Text(0.8365384615384616, 0.4642857142857143, 'pedigree <= 0.411\\ngini = 0.332\\nsamples = 19\\nvalue = [4, 15]'),\n",
       " Text(0.8269230769230769, 0.39285714285714285, 'pregnant <= 4.5\\ngini = 0.278\\nsamples = 18\\nvalue = [3, 15]'),\n",
       " Text(0.8173076923076923, 0.32142857142857145, 'gini = 0.0\\nsamples = 6\\nvalue = [0, 6]'),\n",
       " Text(0.8365384615384616, 0.32142857142857145, 'pedigree <= 0.171\\ngini = 0.375\\nsamples = 12\\nvalue = [3, 9]'),\n",
       " Text(0.8269230769230769, 0.25, 'gini = 0.0\\nsamples = 4\\nvalue = [0, 4]'),\n",
       " Text(0.8461538461538461, 0.25, 'pedigree <= 0.256\\ngini = 0.469\\nsamples = 8\\nvalue = [3, 5]'),\n",
       " Text(0.8365384615384616, 0.17857142857142858, 'insulin <= 73.0\\ngini = 0.48\\nsamples = 5\\nvalue = [3, 2]'),\n",
       " Text(0.8269230769230769, 0.10714285714285714, 'gini = 0.0\\nsamples = 2\\nvalue = [2, 0]'),\n",
       " Text(0.8461538461538461, 0.10714285714285714, 'age <= 43.0\\ngini = 0.444\\nsamples = 3\\nvalue = [1, 2]'),\n",
       " Text(0.8365384615384616, 0.03571428571428571, 'gini = 0.0\\nsamples = 1\\nvalue = [1, 0]'),\n",
       " Text(0.8557692307692307, 0.03571428571428571, 'gini = 0.0\\nsamples = 2\\nvalue = [0, 2]'),\n",
       " Text(0.8557692307692307, 0.17857142857142858, 'gini = 0.0\\nsamples = 3\\nvalue = [0, 3]'),\n",
       " Text(0.8461538461538461, 0.39285714285714285, 'gini = 0.0\\nsamples = 1\\nvalue = [1, 0]'),\n",
       " Text(0.8942307692307693, 0.6071428571428571, 'glucose <= 164.5\\ngini = 0.257\\nsamples = 33\\nvalue = [5, 28]'),\n",
       " Text(0.8846153846153846, 0.5357142857142857, 'insulin <= 520.0\\ngini = 0.219\\nsamples = 32\\nvalue = [4, 28]'),\n",
       " Text(0.875, 0.4642857142857143, 'bmi <= 40.05\\ngini = 0.175\\nsamples = 31\\nvalue = [3, 28]'),\n",
       " Text(0.8653846153846154, 0.39285714285714285, 'gini = 0.0\\nsamples = 22\\nvalue = [0, 22]'),\n",
       " Text(0.8846153846153846, 0.39285714285714285, 'bmi <= 40.75\\ngini = 0.444\\nsamples = 9\\nvalue = [3, 6]'),\n",
       " Text(0.875, 0.32142857142857145, 'gini = 0.0\\nsamples = 3\\nvalue = [3, 0]'),\n",
       " Text(0.8942307692307693, 0.32142857142857145, 'gini = 0.0\\nsamples = 6\\nvalue = [0, 6]'),\n",
       " Text(0.8942307692307693, 0.4642857142857143, 'gini = 0.0\\nsamples = 1\\nvalue = [1, 0]'),\n",
       " Text(0.9038461538461539, 0.5357142857142857, 'gini = 0.0\\nsamples = 1\\nvalue = [1, 0]'),\n",
       " Text(0.9615384615384616, 0.75, 'pedigree <= 1.428\\ngini = 0.165\\nsamples = 55\\nvalue = [5, 50]'),\n",
       " Text(0.9423076923076923, 0.6785714285714286, 'pedigree <= 0.307\\ngini = 0.113\\nsamples = 50\\nvalue = [3, 47]'),\n",
       " Text(0.9326923076923077, 0.6071428571428571, 'pedigree <= 0.291\\ngini = 0.337\\nsamples = 14\\nvalue = [3, 11]'),\n",
       " Text(0.9230769230769231, 0.5357142857142857, 'age <= 37.5\\ngini = 0.26\\nsamples = 13\\nvalue = [2, 11]'),\n",
       " Text(0.9134615384615384, 0.4642857142857143, 'skin <= 28.0\\ngini = 0.444\\nsamples = 6\\nvalue = [2, 4]'),\n",
       " Text(0.9038461538461539, 0.39285714285714285, 'gini = 0.0\\nsamples = 2\\nvalue = [2, 0]'),\n",
       " Text(0.9230769230769231, 0.39285714285714285, 'gini = 0.0\\nsamples = 4\\nvalue = [0, 4]'),\n",
       " Text(0.9326923076923077, 0.4642857142857143, 'gini = 0.0\\nsamples = 7\\nvalue = [0, 7]'),\n",
       " Text(0.9423076923076923, 0.5357142857142857, 'gini = 0.0\\nsamples = 1\\nvalue = [1, 0]'),\n",
       " Text(0.9519230769230769, 0.6071428571428571, 'gini = 0.0\\nsamples = 36\\nvalue = [0, 36]'),\n",
       " Text(0.9807692307692307, 0.6785714285714286, 'age <= 28.0\\ngini = 0.48\\nsamples = 5\\nvalue = [2, 3]'),\n",
       " Text(0.9711538461538461, 0.6071428571428571, 'gini = 0.0\\nsamples = 3\\nvalue = [0, 3]'),\n",
       " Text(0.9903846153846154, 0.6071428571428571, 'gini = 0.0\\nsamples = 2\\nvalue = [2, 0]')]"
      ]
     },
     "execution_count": 8,
     "metadata": {},
     "output_type": "execute_result"
    },
    {
     "data": {
      "image/png": "[encoded data removed]",
      "text/plain": [
       "<Figure size 640x480 with 1 Axes>"
      ]
     },
     "metadata": {},
     "output_type": "display_data"
    }
   ],
   "source": [
    "from sklearn import tree\n",
    "tree.plot_tree(clf, feature_names=col_names)"
   ]
  },
  {
   "cell_type": "markdown",
   "id": "17462098-206c-499e-9781-f36734b3aa84",
   "metadata": {},
   "source": [
    "## Optimizing Performance"
   ]
  },
  {
   "cell_type": "code",
   "execution_count": 12,
   "id": "1a2a1864-3f14-473c-bb23-1b59d264dfac",
   "metadata": {},
   "outputs": [
    {
     "name": "stdout",
     "output_type": "stream",
     "text": [
      "Accuracy:  0.7662337662337663\n"
     ]
    }
   ],
   "source": [
    "# entropy criterion and max depth 3\n",
    "clf = DecisionTreeClassifier(criterion='entropy', max_depth=3).fit(X_train, y_train)\n",
    "\n",
    "y_pred = clf.predict(X_test)\n",
    "\n",
    "print(\"Accuracy: \", accuracy_score(y_test, y_pred))"
   ]
  },
  {
   "cell_type": "code",
   "execution_count": 13,
   "id": "454ba5cd-d52b-4857-bad2-7806cd7dcda7",
   "metadata": {},
   "outputs": [
    {
     "data": {
      "text/plain": [
       "[Text(0.5, 0.875, 'glucose <= 127.5\\nentropy = 0.931\\nsamples = 614\\nvalue = [401, 213]'),\n",
       " Text(0.25, 0.625, 'age <= 28.5\\nentropy = 0.712\\nsamples = 390\\nvalue = [314, 76]'),\n",
       " Text(0.375, 0.75, 'True  '),\n",
       " Text(0.125, 0.375, 'bmi <= 30.95\\nentropy = 0.391\\nsamples = 221\\nvalue = [204, 17]'),\n",
       " Text(0.0625, 0.125, 'entropy = 0.068\\nsamples = 124\\nvalue = [123, 1]'),\n",
       " Text(0.1875, 0.125, 'entropy = 0.646\\nsamples = 97\\nvalue = [81, 16]'),\n",
       " Text(0.375, 0.375, 'bmi <= 26.35\\nentropy = 0.933\\nsamples = 169\\nvalue = [110, 59]'),\n",
       " Text(0.3125, 0.125, 'entropy = 0.191\\nsamples = 34\\nvalue = [33, 1]'),\n",
       " Text(0.4375, 0.125, 'entropy = 0.986\\nsamples = 135\\nvalue = [77, 58]'),\n",
       " Text(0.75, 0.625, 'bmi <= 29.95\\nentropy = 0.964\\nsamples = 224\\nvalue = [87, 137]'),\n",
       " Text(0.625, 0.75, '  False'),\n",
       " Text(0.625, 0.375, 'glucose <= 145.5\\nentropy = 0.895\\nsamples = 61\\nvalue = [42, 19]'),\n",
       " Text(0.5625, 0.125, 'entropy = 0.533\\nsamples = 33\\nvalue = [29, 4]'),\n",
       " Text(0.6875, 0.125, 'entropy = 0.996\\nsamples = 28\\nvalue = [13, 15]'),\n",
       " Text(0.875, 0.375, 'glucose <= 165.5\\nentropy = 0.85\\nsamples = 163\\nvalue = [45, 118]'),\n",
       " Text(0.8125, 0.125, 'entropy = 0.951\\nsamples = 108\\nvalue = [40, 68]'),\n",
       " Text(0.9375, 0.125, 'entropy = 0.439\\nsamples = 55\\nvalue = [5, 50]')]"
      ]
     },
     "execution_count": 13,
     "metadata": {},
     "output_type": "execute_result"
    },
    {
     "data": {
      "image/png": "[encoded data removed]",
      "text/plain": [
       "<Figure size 640x480 with 1 Axes>"
      ]
     },
     "metadata": {},
     "output_type": "display_data"
    }
   ],
   "source": [
    "tree.plot_tree(clf, feature_names=col_names)"
   ]
  }
 ],
 "metadata": {
  "kernelspec": {
   "display_name": "Python (M1 DS)",
   "language": "python",
   "name": "ds-env"
  },
  "language_info": {
   "codemirror_mode": {
    "name": "ipython",
    "version": 3
   },
   "file_extension": ".py",
   "mimetype": "text/x-python",
   "name": "python",
   "nbconvert_exporter": "python",
   "pygments_lexer": "ipython3",
   "version": "3.12.5"
  }
 },
 "nbformat": 4,
 "nbformat_minor": 5
}
