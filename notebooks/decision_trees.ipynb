{
 "cells": [
  {
   "cell_type": "markdown",
   "id": "90be160e-2131-4f41-8a3e-274bcb65744c",
   "metadata": {},
   "source": [
    "# Decision Trees"
   ]
  },
  {
   "cell_type": "markdown",
   "id": "f21f1f85-7678-4313-bf0c-8d5419996708",
   "metadata": {},
   "source": [
    "**Decision Trees** are"
   ]
  },
  {
   "cell_type": "markdown",
   "id": "67a72f8c-5825-471c-8df6-b73b2031302c",
   "metadata": {},
   "source": [
    "# Coding"
   ]
  }
 ],
 "metadata": {
  "kernelspec": {
   "display_name": "Python 3 (ipykernel)",
   "language": "python",
   "name": "python3"
  },
  "language_info": {
   "codemirror_mode": {
    "name": "ipython",
    "version": 3
   },
   "file_extension": ".py",
   "mimetype": "text/x-python",
   "name": "python",
   "nbconvert_exporter": "python",
   "pygments_lexer": "ipython3",
   "version": "3.12.5"
  }
 },
 "nbformat": 4,
 "nbformat_minor": 5
}
